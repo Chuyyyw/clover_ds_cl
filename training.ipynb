{
 "cells": [
  {
   "cell_type": "code",
   "execution_count": 1,
   "id": "dd08471a",
   "metadata": {},
   "outputs": [],
   "source": [
    "import pandas as pd\n",
    "import numpy as np\n",
    "import matplotlib.pyplot as plt\n",
    "import seaborn as sns\n",
    "import ipynb\n",
    "\n",
    "import sys \n",
    "import os\n",
    "sys.path.append(os.getcwd())\n",
    "from ipynb.fs.full.preprocessing_pk import *\n",
    "from ipynb.fs.full.models_pk import *\n",
    "from ipynb.fs.full.evaluation_pk import *\n",
    "\n",
    "# Expand displayed data rows and columns\n",
    "pd.set_option('display.max_rows', 500)\n",
    "pd.set_option('display.max_columns', 500)\n",
    "\n",
    "sns.set_style(\"darkgrid\")\n",
    "import warnings\n",
    "warnings.filterwarnings('ignore')"
   ]
  },
  {
   "cell_type": "code",
   "execution_count": 2,
   "id": "604f37c5",
   "metadata": {},
   "outputs": [],
   "source": [
    "df_input=pd.read_csv('model_input.csv')"
   ]
  },
  {
   "cell_type": "code",
   "execution_count": 3,
   "id": "a0368abc",
   "metadata": {},
   "outputs": [
    {
     "name": "stdout",
     "output_type": "stream",
     "text": [
      "Baseline accuracy of prediction when only using is_actived 0.92525\n"
     ]
    }
   ],
   "source": [
    "active_positive=((df_input['is_activated']==1)&(df_input['marketing_campaign_response']==1))\n",
    "nontactive_negative=((df_input['is_activated']==0)&(df_input['marketing_campaign_response']==0))\n",
    "baseline_accuracy=len(df_input[active_positive|nontactive_negative])/len(df_input)\n",
    "print(f'Baseline accuracy of prediction when only using is_actived {baseline_accuracy}')"
   ]
  },
  {
   "cell_type": "code",
   "execution_count": 4,
   "id": "f10702d1",
   "metadata": {},
   "outputs": [],
   "source": [
    "def base_accuracy(df, criterion, target):\n",
    "    active_positive=((df[criterion]==1)&(df_input[target]==1))\n",
    "    nontactive_negative=((df[criterion]==0)&(df[target]==0))\n",
    "    baseline_accuracy=len(df[active_positive|nontactive_negative])/len(df)\n",
    "    return baseline_accuracy"
   ]
  },
  {
   "cell_type": "markdown",
   "id": "8efc3670",
   "metadata": {},
   "source": [
    "## Preprocessing"
   ]
  },
  {
   "cell_type": "code",
   "execution_count": 5,
   "id": "3a9e7638",
   "metadata": {},
   "outputs": [
    {
     "name": "stdout",
     "output_type": "stream",
     "text": [
      "<class 'pandas.core.frame.DataFrame'>\n",
      "RangeIndex: 20000 entries, 0 to 19999\n",
      "Data columns (total 14 columns):\n",
      " #   Column                          Non-Null Count  Dtype\n",
      "---  ------                          --------------  -----\n",
      " 0   third_party_integrations        20000 non-null  int64\n",
      " 1   enterprise_account_legacy       20000 non-null  bool \n",
      " 2   is_activated                    20000 non-null  bool \n",
      " 3   has_cloud_storage               20000 non-null  bool \n",
      " 4   has_cloud_storage_only          20000 non-null  bool \n",
      " 5   num_services_cap                20000 non-null  int64\n",
      " 6   clusters_score                  20000 non-null  int64\n",
      " 7   tier_level_PREMIUM              20000 non-null  uint8\n",
      " 8   third_party_integration_flag_2  20000 non-null  uint8\n",
      " 9   recency_months_cluster_2        20000 non-null  uint8\n",
      " 10  num_services_cap_cluster_0      20000 non-null  uint8\n",
      " 11  num_services_cap_cluster_2      20000 non-null  uint8\n",
      " 12  segment_high                    20000 non-null  uint8\n",
      " 13  segment_low                     20000 non-null  uint8\n",
      "dtypes: bool(4), int64(3), uint8(7)\n",
      "memory usage: 683.7 KB\n"
     ]
    }
   ],
   "source": [
    "# Overall conversion\n",
    "X, y=data_pipeline(df_input, 'marketing_campaign_response')\n",
    "X=X.drop(columns=['account_id'], axis=1)\n",
    "X.info()"
   ]
  },
  {
   "cell_type": "code",
   "execution_count": 6,
   "id": "66f0e85f",
   "metadata": {},
   "outputs": [
    {
     "data": {
      "text/plain": [
       "marketing_campaign_response       1.000000\n",
       "is_activated                      0.848571\n",
       "num_services_cap                  0.698467\n",
       "clusters_score                    0.659359\n",
       "segment_high                      0.538014\n",
       "num_services_cap_cluster_2        0.484303\n",
       "recency_months_cluster_2          0.454810\n",
       "third_party_integration_flag_2    0.386497\n",
       "third_party_integrations          0.233669\n",
       "enterprise_account_legacy         0.040954\n",
       "has_cloud_storage                -0.468048\n",
       "segment_low                      -0.574485\n",
       "tier_level_PREMIUM               -0.583845\n",
       "num_services_cap_cluster_0       -0.710331\n",
       "has_cloud_storage_only           -0.720397\n",
       "Name: marketing_campaign_response, dtype: float64"
      ]
     },
     "execution_count": 6,
     "metadata": {},
     "output_type": "execute_result"
    }
   ],
   "source": [
    "## Investigate the correlations between dependent and independent variables\n",
    "pd.concat([X,y], axis=1).corr(method='pearson').loc['marketing_campaign_response'].sort_values(ascending=False)"
   ]
  },
  {
   "cell_type": "code",
   "execution_count": 7,
   "id": "03523c6a",
   "metadata": {},
   "outputs": [],
   "source": [
    "### Train test split\n",
    "X_train, X_test, y_train, y_test = train_test_split(X,y, test_size=0.2, random_state=14)"
   ]
  },
  {
   "cell_type": "code",
   "execution_count": 8,
   "id": "b8e6f6e9",
   "metadata": {},
   "outputs": [
    {
     "data": {
      "text/plain": [
       "0.9245"
      ]
     },
     "execution_count": 8,
     "metadata": {},
     "output_type": "execute_result"
    }
   ],
   "source": [
    "base_accuracy(pd.concat([X_train, y_train], axis=1), 'is_activated', 'marketing_campaign_response')"
   ]
  },
  {
   "cell_type": "code",
   "execution_count": 9,
   "id": "adc20f1f",
   "metadata": {},
   "outputs": [],
   "source": [
    "## initiate the table for model comparisons over training and testing\n",
    "models_train=pd.DataFrame(columns=['model', 'best_training_accuracy'])\n",
    "models_test=pd.DataFrame(columns=['model', 'accuracy', 'precision', 'recall'])"
   ]
  },
  {
   "cell_type": "markdown",
   "id": "19957dfd",
   "metadata": {},
   "source": [
    "## Modeling Training"
   ]
  },
  {
   "cell_type": "markdown",
   "id": "9ede3f21",
   "metadata": {},
   "source": [
    "### 1. Logistic Regression"
   ]
  },
  {
   "cell_type": "code",
   "execution_count": 10,
   "id": "6b60ea48",
   "metadata": {},
   "outputs": [
    {
     "data": {
      "image/png": "[encoded data removed]",
      "text/plain": [
       "<Figure size 432x288 with 1 Axes>"
      ]
     },
     "metadata": {},
     "output_type": "display_data"
    }
   ],
   "source": [
    "#logistic regression modeling function: logist(x_train, y_train, predictors' names ,number of cv)\n",
    "columns=['is_activated','has_cloud_storage_only','clusters_score',\n",
    "         'tier_level_PREMIUM','third_party_integration_flag_2' ]\n",
    "\n",
    "logist_model, logist_perf=logist(X_train, y_train, columns,5)\n",
    "models_train=pd.concat([models_train, logist_perf], ignore_index=True)\n",
    "\n",
    "logist_model.fit(X_train[columns], y_train)\n",
    "y_pred=logist_model.predict(X_test[columns])\n",
    "probs=logist_model.predict_proba(X_test[columns])\n",
    "y1_prob=probs[:, 1]\n",
    "\n",
    "logist_eval=pd.DataFrame(eval_metrics('logistic', y_test, y_pred), index=[0])\n",
    "models_test=pd.concat([models_test, logist_eval], ignore_index=True)\n",
    "roc_auc_plot('Logistic Regression', y_test, y1_prob)"
   ]
  },
  {
   "cell_type": "markdown",
   "id": "598d996a",
   "metadata": {},
   "source": [
    "### 2. Decision Tree"
   ]
  },
  {
   "cell_type": "code",
   "execution_count": 11,
   "id": "972dcafb",
   "metadata": {},
   "outputs": [
    {
     "data": {
      "image/png": "[encoded data removed]",
      "text/plain": [
       "<Figure size 432x288 with 1 Axes>"
      ]
     },
     "metadata": {},
     "output_type": "display_data"
    }
   ],
   "source": [
    "#decision tree modeling function: decision_tree(x_train, y_train, predictors' names ,number of cv)\n",
    "dtree_model, dtree_perf=decision_tree(X_train, y_train, 'all',5)\n",
    "models_train=pd.concat([models_train, dtree_perf], ignore_index=True)\n",
    "\n",
    "dtree_model.fit(X_train, y_train)\n",
    "y_pred=dtree_model.predict(X_test)\n",
    "probs=dtree_model.predict_proba(X_test)\n",
    "y1_prob=probs[:, 1]\n",
    "\n",
    "dtree_eval=pd.DataFrame(eval_metrics('decision tree', y_test, y_pred), index=[0])\n",
    "models_test=pd.concat([models_test, dtree_eval], ignore_index=True)\n",
    "roc_auc_plot('Decision Tree', y_test, y1_prob)"
   ]
  },
  {
   "cell_type": "markdown",
   "id": "c057d2bc",
   "metadata": {},
   "source": [
    "### 3. Random Forest"
   ]
  },
  {
   "cell_type": "code",
   "execution_count": 12,
   "id": "f3b0b1e8",
   "metadata": {},
   "outputs": [
    {
     "data": {
      "image/png": "[encoded data removed]",
      "text/plain": [
       "<Figure size 432x288 with 1 Axes>"
      ]
     },
     "metadata": {},
     "output_type": "display_data"
    }
   ],
   "source": [
    "#random forest modeling function: random_forest(x_train, y_train, predictors' names ,number of cv)\n",
    "rf_model, rf_perf=random_forest(X_train, y_train, 'all', 5)\n",
    "models_train=pd.concat([models_train, rf_perf], ignore_index=True)\n",
    "\n",
    "rf_model.fit(X_train, y_train)\n",
    "y_pred=rf_model.predict(X_test)\n",
    "probs=rf_model.predict_proba(X_test)\n",
    "y1_prob=probs[:, 1]\n",
    "\n",
    "rf_eval=pd.DataFrame(eval_metrics('random forest', y_test, y_pred), index=[0])\n",
    "models_test=pd.concat([models_test, rf_eval], ignore_index=True)\n",
    "roc_auc_plot('Random Forest', y_test, y1_prob)"
   ]
  },
  {
   "cell_type": "markdown",
   "id": "eede5b2c",
   "metadata": {},
   "source": [
    "### 4. SVM"
   ]
  },
  {
   "cell_type": "code",
   "execution_count": 13,
   "id": "123da434",
   "metadata": {},
   "outputs": [
    {
     "data": {
      "image/png": "[encoded data removed]",
      "text/plain": [
       "<Figure size 432x288 with 1 Axes>"
      ]
     },
     "metadata": {},
     "output_type": "display_data"
    }
   ],
   "source": [
    "#svm modeling function: svm(x_train, y_train, predictors' names ,number of cv)\n",
    "svm_model, svm_perf=svm(X_train, y_train, 'all',5)\n",
    "models_train=pd.concat([models_train, svm_perf], ignore_index=True)\n",
    "\n",
    "svm_model.fit(X_train, y_train)\n",
    "y_pred=svm_model.predict(X_test)\n",
    "probs=svm_model.predict_proba(X_test)\n",
    "y1_prob=probs[:, 1]\n",
    "\n",
    "svm_eval=pd.DataFrame(eval_metrics('svm', y_test, y_pred),index=[0])\n",
    "models_test=pd.concat([models_test, svm_eval], ignore_index=True)\n",
    "roc_auc_plot('SVM', y_test, y1_prob)"
   ]
  },
  {
   "cell_type": "markdown",
   "id": "93d4d235",
   "metadata": {},
   "source": [
    "## Modeling Comparison"
   ]
  },
  {
   "cell_type": "code",
   "execution_count": 23,
   "id": "409499ea",
   "metadata": {},
   "outputs": [
    {
     "data": {
      "text/html": [
       "<div>\n",
       "<style scoped>\n",
       "    .dataframe tbody tr th:only-of-type {\n",
       "        vertical-align: middle;\n",
       "    }\n",
       "\n",
       "    .dataframe tbody tr th {\n",
       "        vertical-align: top;\n",
       "    }\n",
       "\n",
       "    .dataframe thead th {\n",
       "        text-align: right;\n",
       "    }\n",
       "</style>\n",
       "<table border=\"1\" class=\"dataframe\">\n",
       "  <thead>\n",
       "    <tr style=\"text-align: right;\">\n",
       "      <th></th>\n",
       "      <th>model</th>\n",
       "      <th>best_training_accuracy</th>\n",
       "      <th>gt_than_baseline_0.92</th>\n",
       "    </tr>\n",
       "  </thead>\n",
       "  <tbody>\n",
       "    <tr>\n",
       "      <th>0</th>\n",
       "      <td>logistic</td>\n",
       "      <td>0.9361</td>\n",
       "      <td>True</td>\n",
       "    </tr>\n",
       "    <tr>\n",
       "      <th>1</th>\n",
       "      <td>decision tree</td>\n",
       "      <td>0.9397</td>\n",
       "      <td>True</td>\n",
       "    </tr>\n",
       "    <tr>\n",
       "      <th>2</th>\n",
       "      <td>random forest</td>\n",
       "      <td>0.9425</td>\n",
       "      <td>True</td>\n",
       "    </tr>\n",
       "    <tr>\n",
       "      <th>3</th>\n",
       "      <td>svm</td>\n",
       "      <td>0.9426</td>\n",
       "      <td>True</td>\n",
       "    </tr>\n",
       "  </tbody>\n",
       "</table>\n",
       "</div>"
      ],
      "text/plain": [
       "           model  best_training_accuracy  gt_than_baseline_0.92\n",
       "0       logistic                  0.9361                   True\n",
       "1  decision tree                  0.9397                   True\n",
       "2  random forest                  0.9425                   True\n",
       "3            svm                  0.9426                   True"
      ]
     },
     "execution_count": 23,
     "metadata": {},
     "output_type": "execute_result"
    }
   ],
   "source": [
    "## Training performance\n",
    "basetrain_accuracy=base_accuracy(pd.concat([X_train, y_train], axis=1), 'is_activated', 'marketing_campaign_response')\n",
    "models_train['gt_than_baseline_0.92']=models_train['best_training_accuracy']>=basetrain_accuracy\n",
    "\n",
    "models_train"
   ]
  },
  {
   "cell_type": "code",
   "execution_count": 26,
   "id": "821af65e",
   "metadata": {},
   "outputs": [
    {
     "data": {
      "text/html": [
       "<div>\n",
       "<style scoped>\n",
       "    .dataframe tbody tr th:only-of-type {\n",
       "        vertical-align: middle;\n",
       "    }\n",
       "\n",
       "    .dataframe tbody tr th {\n",
       "        vertical-align: top;\n",
       "    }\n",
       "\n",
       "    .dataframe thead th {\n",
       "        text-align: right;\n",
       "    }\n",
       "</style>\n",
       "<table border=\"1\" class=\"dataframe\">\n",
       "  <thead>\n",
       "    <tr style=\"text-align: right;\">\n",
       "      <th></th>\n",
       "      <th>model</th>\n",
       "      <th>accuracy</th>\n",
       "      <th>precision</th>\n",
       "      <th>recall</th>\n",
       "      <th>gt_than_baseline_0.928</th>\n",
       "    </tr>\n",
       "  </thead>\n",
       "  <tbody>\n",
       "    <tr>\n",
       "      <th>0</th>\n",
       "      <td>logistic</td>\n",
       "      <td>0.9425</td>\n",
       "      <td>0.9403</td>\n",
       "      <td>0.9594</td>\n",
       "      <td>True</td>\n",
       "    </tr>\n",
       "    <tr>\n",
       "      <th>1</th>\n",
       "      <td>decision tree</td>\n",
       "      <td>0.9398</td>\n",
       "      <td>0.9579</td>\n",
       "      <td>0.9347</td>\n",
       "      <td>True</td>\n",
       "    </tr>\n",
       "    <tr>\n",
       "      <th>2</th>\n",
       "      <td>random forest</td>\n",
       "      <td>0.9438</td>\n",
       "      <td>0.9517</td>\n",
       "      <td>0.9488</td>\n",
       "      <td>True</td>\n",
       "    </tr>\n",
       "    <tr>\n",
       "      <th>3</th>\n",
       "      <td>svm</td>\n",
       "      <td>0.9432</td>\n",
       "      <td>0.9533</td>\n",
       "      <td>0.9462</td>\n",
       "      <td>True</td>\n",
       "    </tr>\n",
       "  </tbody>\n",
       "</table>\n",
       "</div>"
      ],
      "text/plain": [
       "           model  accuracy  precision  recall  gt_than_baseline_0.928\n",
       "0       logistic    0.9425     0.9403  0.9594                    True\n",
       "1  decision tree    0.9398     0.9579  0.9347                    True\n",
       "2  random forest    0.9438     0.9517  0.9488                    True\n",
       "3            svm    0.9432     0.9533  0.9462                    True"
      ]
     },
     "execution_count": 26,
     "metadata": {},
     "output_type": "execute_result"
    }
   ],
   "source": [
    "## Testing performance\n",
    "basetest_accuracy=base_accuracy(pd.concat([X_test, y_test], axis=1), 'is_activated', 'marketing_campaign_response')\n",
    "models_test['gt_than_baseline_0.928']=models_test['accuracy']>=basetest_accuracy\n",
    "\n",
    "models_test"
   ]
  },
  {
   "cell_type": "markdown",
   "id": "1814b2ea",
   "metadata": {},
   "source": [
    "## Feature Importance"
   ]
  },
  {
   "cell_type": "code",
   "execution_count": 16,
   "id": "363d7705",
   "metadata": {},
   "outputs": [
    {
     "data": {
      "text/html": [
       "<div>\n",
       "<style scoped>\n",
       "    .dataframe tbody tr th:only-of-type {\n",
       "        vertical-align: middle;\n",
       "    }\n",
       "\n",
       "    .dataframe tbody tr th {\n",
       "        vertical-align: top;\n",
       "    }\n",
       "\n",
       "    .dataframe thead th {\n",
       "        text-align: right;\n",
       "    }\n",
       "</style>\n",
       "<table border=\"1\" class=\"dataframe\">\n",
       "  <thead>\n",
       "    <tr style=\"text-align: right;\">\n",
       "      <th></th>\n",
       "      <th>variables</th>\n",
       "      <th>tree_importance</th>\n",
       "    </tr>\n",
       "  </thead>\n",
       "  <tbody>\n",
       "    <tr>\n",
       "      <th>0</th>\n",
       "      <td>is_activated</td>\n",
       "      <td>3.945354</td>\n",
       "    </tr>\n",
       "    <tr>\n",
       "      <th>3</th>\n",
       "      <td>tier_level_PREMIUM</td>\n",
       "      <td>-2.993601</td>\n",
       "    </tr>\n",
       "    <tr>\n",
       "      <th>4</th>\n",
       "      <td>third_party_integration_flag_2</td>\n",
       "      <td>2.345777</td>\n",
       "    </tr>\n",
       "    <tr>\n",
       "      <th>2</th>\n",
       "      <td>clusters_score</td>\n",
       "      <td>1.195023</td>\n",
       "    </tr>\n",
       "    <tr>\n",
       "      <th>1</th>\n",
       "      <td>has_cloud_storage_only</td>\n",
       "      <td>-0.318622</td>\n",
       "    </tr>\n",
       "  </tbody>\n",
       "</table>\n",
       "</div>"
      ],
      "text/plain": [
       "                        variables  tree_importance\n",
       "0                    is_activated         3.945354\n",
       "3              tier_level_PREMIUM        -2.993601\n",
       "4  third_party_integration_flag_2         2.345777\n",
       "2                  clusters_score         1.195023\n",
       "1          has_cloud_storage_only        -0.318622"
      ]
     },
     "execution_count": 16,
     "metadata": {},
     "output_type": "execute_result"
    }
   ],
   "source": [
    "feature_importance(logist_model, 'linear', columns).sort_values(by='tree_importance', key=abs, ascending=False)"
   ]
  },
  {
   "cell_type": "code",
   "execution_count": 17,
   "id": "d44c014e",
   "metadata": {},
   "outputs": [
    {
     "data": {
      "text/html": [
       "<div>\n",
       "<style scoped>\n",
       "    .dataframe tbody tr th:only-of-type {\n",
       "        vertical-align: middle;\n",
       "    }\n",
       "\n",
       "    .dataframe tbody tr th {\n",
       "        vertical-align: top;\n",
       "    }\n",
       "\n",
       "    .dataframe thead th {\n",
       "        text-align: right;\n",
       "    }\n",
       "</style>\n",
       "<table border=\"1\" class=\"dataframe\">\n",
       "  <thead>\n",
       "    <tr style=\"text-align: right;\">\n",
       "      <th></th>\n",
       "      <th>variables</th>\n",
       "      <th>tree_importance</th>\n",
       "    </tr>\n",
       "  </thead>\n",
       "  <tbody>\n",
       "    <tr>\n",
       "      <th>0</th>\n",
       "      <td>is_activated</td>\n",
       "      <td>0.863421</td>\n",
       "    </tr>\n",
       "    <tr>\n",
       "      <th>1</th>\n",
       "      <td>clusters_score</td>\n",
       "      <td>0.063261</td>\n",
       "    </tr>\n",
       "    <tr>\n",
       "      <th>2</th>\n",
       "      <td>third_party_integration_flag_2</td>\n",
       "      <td>0.033886</td>\n",
       "    </tr>\n",
       "    <tr>\n",
       "      <th>3</th>\n",
       "      <td>tier_level_PREMIUM</td>\n",
       "      <td>0.013930</td>\n",
       "    </tr>\n",
       "    <tr>\n",
       "      <th>4</th>\n",
       "      <td>third_party_integrations</td>\n",
       "      <td>0.010353</td>\n",
       "    </tr>\n",
       "    <tr>\n",
       "      <th>5</th>\n",
       "      <td>recency_months_cluster_2</td>\n",
       "      <td>0.009349</td>\n",
       "    </tr>\n",
       "    <tr>\n",
       "      <th>6</th>\n",
       "      <td>num_services_cap</td>\n",
       "      <td>0.003104</td>\n",
       "    </tr>\n",
       "    <tr>\n",
       "      <th>7</th>\n",
       "      <td>has_cloud_storage_only</td>\n",
       "      <td>0.001057</td>\n",
       "    </tr>\n",
       "    <tr>\n",
       "      <th>8</th>\n",
       "      <td>segment_high</td>\n",
       "      <td>0.000973</td>\n",
       "    </tr>\n",
       "    <tr>\n",
       "      <th>9</th>\n",
       "      <td>has_cloud_storage</td>\n",
       "      <td>0.000271</td>\n",
       "    </tr>\n",
       "    <tr>\n",
       "      <th>10</th>\n",
       "      <td>enterprise_account_legacy</td>\n",
       "      <td>0.000215</td>\n",
       "    </tr>\n",
       "    <tr>\n",
       "      <th>11</th>\n",
       "      <td>num_services_cap_cluster_2</td>\n",
       "      <td>0.000179</td>\n",
       "    </tr>\n",
       "    <tr>\n",
       "      <th>12</th>\n",
       "      <td>num_services_cap_cluster_0</td>\n",
       "      <td>0.000000</td>\n",
       "    </tr>\n",
       "    <tr>\n",
       "      <th>13</th>\n",
       "      <td>segment_low</td>\n",
       "      <td>0.000000</td>\n",
       "    </tr>\n",
       "  </tbody>\n",
       "</table>\n",
       "</div>"
      ],
      "text/plain": [
       "                         variables  tree_importance\n",
       "0                     is_activated         0.863421\n",
       "1                   clusters_score         0.063261\n",
       "2   third_party_integration_flag_2         0.033886\n",
       "3               tier_level_PREMIUM         0.013930\n",
       "4         third_party_integrations         0.010353\n",
       "5         recency_months_cluster_2         0.009349\n",
       "6                 num_services_cap         0.003104\n",
       "7           has_cloud_storage_only         0.001057\n",
       "8                     segment_high         0.000973\n",
       "9                has_cloud_storage         0.000271\n",
       "10       enterprise_account_legacy         0.000215\n",
       "11      num_services_cap_cluster_2         0.000179\n",
       "12      num_services_cap_cluster_0         0.000000\n",
       "13                     segment_low         0.000000"
      ]
     },
     "execution_count": 17,
     "metadata": {},
     "output_type": "execute_result"
    }
   ],
   "source": [
    "feature_importance(dtree_model, 'non-linear', X_train.columns).reset_index(drop=True)"
   ]
  },
  {
   "cell_type": "code",
   "execution_count": 18,
   "id": "7a436a0f",
   "metadata": {},
   "outputs": [
    {
     "data": {
      "text/html": [
       "<div>\n",
       "<style scoped>\n",
       "    .dataframe tbody tr th:only-of-type {\n",
       "        vertical-align: middle;\n",
       "    }\n",
       "\n",
       "    .dataframe tbody tr th {\n",
       "        vertical-align: top;\n",
       "    }\n",
       "\n",
       "    .dataframe thead th {\n",
       "        text-align: right;\n",
       "    }\n",
       "</style>\n",
       "<table border=\"1\" class=\"dataframe\">\n",
       "  <thead>\n",
       "    <tr style=\"text-align: right;\">\n",
       "      <th></th>\n",
       "      <th>variables</th>\n",
       "      <th>tree_importance</th>\n",
       "    </tr>\n",
       "  </thead>\n",
       "  <tbody>\n",
       "    <tr>\n",
       "      <th>0</th>\n",
       "      <td>is_activated</td>\n",
       "      <td>0.244708</td>\n",
       "    </tr>\n",
       "    <tr>\n",
       "      <th>1</th>\n",
       "      <td>num_services_cap</td>\n",
       "      <td>0.227262</td>\n",
       "    </tr>\n",
       "    <tr>\n",
       "      <th>2</th>\n",
       "      <td>num_services_cap_cluster_0</td>\n",
       "      <td>0.118300</td>\n",
       "    </tr>\n",
       "    <tr>\n",
       "      <th>3</th>\n",
       "      <td>has_cloud_storage_only</td>\n",
       "      <td>0.112292</td>\n",
       "    </tr>\n",
       "    <tr>\n",
       "      <th>4</th>\n",
       "      <td>clusters_score</td>\n",
       "      <td>0.075404</td>\n",
       "    </tr>\n",
       "    <tr>\n",
       "      <th>5</th>\n",
       "      <td>tier_level_PREMIUM</td>\n",
       "      <td>0.075122</td>\n",
       "    </tr>\n",
       "    <tr>\n",
       "      <th>6</th>\n",
       "      <td>segment_low</td>\n",
       "      <td>0.048611</td>\n",
       "    </tr>\n",
       "    <tr>\n",
       "      <th>7</th>\n",
       "      <td>third_party_integration_flag_2</td>\n",
       "      <td>0.024743</td>\n",
       "    </tr>\n",
       "    <tr>\n",
       "      <th>8</th>\n",
       "      <td>segment_high</td>\n",
       "      <td>0.022623</td>\n",
       "    </tr>\n",
       "    <tr>\n",
       "      <th>9</th>\n",
       "      <td>recency_months_cluster_2</td>\n",
       "      <td>0.022499</td>\n",
       "    </tr>\n",
       "    <tr>\n",
       "      <th>10</th>\n",
       "      <td>third_party_integrations</td>\n",
       "      <td>0.013651</td>\n",
       "    </tr>\n",
       "    <tr>\n",
       "      <th>11</th>\n",
       "      <td>num_services_cap_cluster_2</td>\n",
       "      <td>0.008353</td>\n",
       "    </tr>\n",
       "    <tr>\n",
       "      <th>12</th>\n",
       "      <td>has_cloud_storage</td>\n",
       "      <td>0.005404</td>\n",
       "    </tr>\n",
       "    <tr>\n",
       "      <th>13</th>\n",
       "      <td>enterprise_account_legacy</td>\n",
       "      <td>0.001028</td>\n",
       "    </tr>\n",
       "  </tbody>\n",
       "</table>\n",
       "</div>"
      ],
      "text/plain": [
       "                         variables  tree_importance\n",
       "0                     is_activated         0.244708\n",
       "1                 num_services_cap         0.227262\n",
       "2       num_services_cap_cluster_0         0.118300\n",
       "3           has_cloud_storage_only         0.112292\n",
       "4                   clusters_score         0.075404\n",
       "5               tier_level_PREMIUM         0.075122\n",
       "6                      segment_low         0.048611\n",
       "7   third_party_integration_flag_2         0.024743\n",
       "8                     segment_high         0.022623\n",
       "9         recency_months_cluster_2         0.022499\n",
       "10        third_party_integrations         0.013651\n",
       "11      num_services_cap_cluster_2         0.008353\n",
       "12               has_cloud_storage         0.005404\n",
       "13       enterprise_account_legacy         0.001028"
      ]
     },
     "execution_count": 18,
     "metadata": {},
     "output_type": "execute_result"
    }
   ],
   "source": [
    "feature_importance(rf_model, 'non-linear', X_train.columns).reset_index(drop=True)"
   ]
  },
  {
   "cell_type": "code",
   "execution_count": null,
   "id": "9ebbfc89",
   "metadata": {},
   "outputs": [],
   "source": []
  }
 ],
 "metadata": {
  "kernelspec": {
   "display_name": "Python 3",
   "language": "python",
   "name": "python3"
  },
  "language_info": {
   "codemirror_mode": {
    "name": "ipython",
    "version": 3
   },
   "file_extension": ".py",
   "mimetype": "text/x-python",
   "name": "python",
   "nbconvert_exporter": "python",
   "pygments_lexer": "ipython3",
   "version": "3.8.2"
  }
 },
 "nbformat": 4,
 "nbformat_minor": 5
}
