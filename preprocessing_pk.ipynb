{
 "cells": [
  {
   "cell_type": "code",
   "execution_count": 1,
   "id": "783066c7",
   "metadata": {},
   "outputs": [],
   "source": [
    "import pandas as pd\n",
    "from sklearn.model_selection import train_test_split\n",
    "from sklearn.preprocessing import MinMaxScaler\n",
    "import numpy as np"
   ]
  },
  {
   "cell_type": "code",
   "execution_count": 2,
   "id": "20698e74",
   "metadata": {},
   "outputs": [],
   "source": [
    "def months_diff(df, start_date, end_date):\n",
    "    month_diff = end_date-df[start_date].dt.to_period('M').astype(int)\n",
    "    if df[start_date].isnull().sum()>0:\n",
    "        month_diff=month_diff.mask(df[start_date].isnull(), np.nan)\n",
    "    return month_diff"
   ]
  },
  {
   "cell_type": "code",
   "execution_count": 3,
   "id": "21a76ee7",
   "metadata": {},
   "outputs": [],
   "source": [
    "def segment_conversion(df, group_var, response_var, levels):\n",
    "    if levels >0:\n",
    "        agg= df.groupby([group_var])[response_var].agg(['count', 'mean']).sort_values(by='count', ascending=False)[:levels]\n",
    "    else:\n",
    "        agg= df.groupby([group_var])[response_var].agg(['count', 'mean']).sort_values(by='count', ascending=False)\n",
    "    return agg.reset_index()"
   ]
  },
  {
   "cell_type": "code",
   "execution_count": 4,
   "id": "f048020f",
   "metadata": {},
   "outputs": [],
   "source": [
    "def data_pipeline(df, dependent):\n",
    "    \"\"\"\n",
    "    Preprocessing pipeline 1\n",
    "    exclude dependent variables\n",
    "    \"\"\"\n",
    "    X, y = df.loc[:, df.columns!=dependent], df[[dependent]]\n",
    "    X = drop_missing_columns(X, 0.5)\n",
    "    X = drop_datetime(X)\n",
    "    X = drop_services(X)\n",
    "    X = drop_sparse_variable(X, 0.1)\n",
    "    X = categorize_numerics(X, 5)\n",
    "    #X = cap_scale(X, 0.9)\n",
    "    X = one_hot_encode(X,y, 0.25, 0.25, 0.75)\n",
    "    \n",
    "    return X, y"
   ]
  },
  {
   "cell_type": "code",
   "execution_count": 5,
   "id": "5d056acf",
   "metadata": {},
   "outputs": [],
   "source": [
    "def drop_missing_columns(df, threshold):\n",
    "    \"\"\"Drop columns with missing values more than threshold\"\"\"\n",
    "    drop_columns=[]\n",
    "    for c in list(df.columns):\n",
    "        if df[c].count()<len(df)*threshold:\n",
    "            drop_columns.append(c)\n",
    "    return df.drop(drop_columns, axis=1)"
   ]
  },
  {
   "cell_type": "code",
   "execution_count": 6,
   "id": "3d8e9327",
   "metadata": {},
   "outputs": [],
   "source": [
    "def drop_datetime(df):\n",
    "    dt_stamps=df.filter(regex='date$|time$|months$', axis=1).columns\n",
    "    return df.drop(dt_stamps, axis=1)"
   ]
  },
  {
   "cell_type": "code",
   "execution_count": 7,
   "id": "c58e4181",
   "metadata": {},
   "outputs": [],
   "source": [
    "def drop_services(df):\n",
    "    dt_stamps=df.filter(regex='services$|count$|active$', axis=1).columns\n",
    "    return df.drop(dt_stamps, axis=1)"
   ]
  },
  {
   "cell_type": "code",
   "execution_count": 8,
   "id": "f44ec3f4",
   "metadata": {},
   "outputs": [],
   "source": [
    "def categorize_numerics(df, threshold):\n",
    "    \"\"\"\n",
    "    Convert numerical variables with discrete unique values\n",
    "    \"\"\"\n",
    "    numerics=list(df.select_dtypes(include=['float64', 'int64']).columns)\n",
    "    for n in numerics:\n",
    "        if df[n].nunique()<threshold:\n",
    "            df[n]=df[n].astype(str)          \n",
    "    return df  "
   ]
  },
  {
   "cell_type": "code",
   "execution_count": 9,
   "id": "5d616c15",
   "metadata": {},
   "outputs": [],
   "source": [
    "def drop_high_zeros(df, threshold):\n",
    "    \"\"\"\n",
    "    Drop numerical values with high percentage of zeros\n",
    "    \"\"\"\n",
    "    drop_list=[]\n",
    "    numerics=list(df.select_dtypes(include=['float64', 'int64']).columns)\n",
    "    for n in numerics:\n",
    "        if df[n].eq(0).sum()> threshold*len(df):\n",
    "            drop_list.append(n)\n",
    "            \n",
    "    if len(drop_list)>0:\n",
    "        df=df.drop(drop_list, axis=1)\n",
    "    return df"
   ]
  },
  {
   "cell_type": "code",
   "execution_count": 10,
   "id": "26d90fd8",
   "metadata": {},
   "outputs": [],
   "source": [
    "def drop_sparse_variable(df, threshold):\n",
    "    \"\"\"\n",
    "    Drop the variables if it has too many unique values\n",
    "    No need to use it if already doing the one_hot_encode\n",
    "    \"\"\"\n",
    "    categoricals= list(df.select_dtypes(include='object').columns)\n",
    "    sparses=[]\n",
    "    for c in categoricals:\n",
    "        if df[c].nunique()>threshold*len(df):\n",
    "            sparses.append(c)\n",
    "    if len(sparses)>0:\n",
    "        df=df.drop(sparses, axis=1)\n",
    "    return df"
   ]
  },
  {
   "cell_type": "code",
   "execution_count": 11,
   "id": "0d6056f3",
   "metadata": {},
   "outputs": [],
   "source": [
    "def cap_scale(df, threshold):\n",
    "    \"\"\"\n",
    "    Replace the values with the the threshold for those above threshold\n",
    "    MinMaxscaler to tranform the values into range(0,1)\n",
    "    \"\"\"\n",
    "    numerics=list(df.select_dtypes(include=['float64', 'int64']).columns)\n",
    "    scaler=MinMaxScaler()\n",
    "    for n in numerics:\n",
    "        if 'month' not in n:\n",
    "            if df[n].max()>1:\n",
    "                cap=df[n].quantile(threshold)\n",
    "                df[n]=df[n].where(df[n]<=cap, cap)\n",
    "                df.loc[:, n]=scaler.fit_transform(df[[n]])\n",
    "        else:\n",
    "            df.loc[:, n]=scaler.fit_transform(df[[n]]) \n",
    "    return df"
   ]
  },
  {
   "cell_type": "code",
   "execution_count": 12,
   "id": "9b87469a",
   "metadata": {},
   "outputs": [],
   "source": [
    "def one_hot_encode(df, target, count_threshold, lower_conversion, upper_conversion):\n",
    "    \"\"\"\n",
    "    Only create binary variables for meaningful values out of categorical variables\n",
    "    \"\"\"\n",
    "    categoricals= list(df.select_dtypes(include='object').columns)\n",
    "    df_combined=pd.concat([df, target], axis=1)\n",
    "    for c in categoricals:\n",
    "        sum_table=segment_conversion(df_combined, c, 'marketing_campaign_response', -1)\n",
    "        sum_table=sum_table[(sum_table['count']>count_threshold*len(df))&\n",
    "                            ((sum_table['mean']<lower_conversion)| \n",
    "                             (sum_table['mean']>upper_conversion))]\n",
    "        if len(sum_table)>0:\n",
    "            dummy_values=sum_table[c].values\n",
    "            if len(df[c].unique())==2 and len(sum_table)==2:\n",
    "                df=pd.get_dummies(df, columns=[c], prefix=[c], drop_first=True)\n",
    "            else:\n",
    "                df[c]=df[c].where(df[c].isin(dummy_values), 'other')\n",
    "                df=pd.get_dummies(df, columns=[c], prefix=[c], drop_first=False)\n",
    "                df=df.drop([c+'_other'], axis=1)\n",
    "        else:\n",
    "            df=df.drop(c, axis=1)\n",
    "    return df"
   ]
  },
  {
   "cell_type": "code",
   "execution_count": null,
   "id": "357c6c39",
   "metadata": {},
   "outputs": [],
   "source": []
  }
 ],
 "metadata": {
  "kernelspec": {
   "display_name": "Python 3",
   "language": "python",
   "name": "python3"
  },
  "language_info": {
   "codemirror_mode": {
    "name": "ipython",
    "version": 3
   },
   "file_extension": ".py",
   "mimetype": "text/x-python",
   "name": "python",
   "nbconvert_exporter": "python",
   "pygments_lexer": "ipython3",
   "version": "3.8.2"
  }
 },
 "nbformat": 4,
 "nbformat_minor": 5
}
