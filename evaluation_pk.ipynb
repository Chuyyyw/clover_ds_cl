{
 "cells": [
  {
   "cell_type": "code",
   "execution_count": 1,
   "id": "dd08471a",
   "metadata": {},
   "outputs": [],
   "source": [
    "import pandas as pd\n",
    "import numpy as np\n",
    "import matplotlib.pyplot as plt\n",
    "import seaborn as sns\n",
    "\n",
    "from sklearn import metrics\n",
    "from sklearn.metrics import roc_curve, auc\n",
    "\n",
    "sns.set_style(\"darkgrid\")\n",
    "import warnings\n",
    "warnings.filterwarnings('ignore')"
   ]
  },
  {
   "cell_type": "code",
   "execution_count": 2,
   "id": "afbdd9d2",
   "metadata": {},
   "outputs": [],
   "source": [
    "def eval_metrics(model, y_test, y_pred):\n",
    "    accuracy=metrics.accuracy_score(y_test, y_pred)\n",
    "    precision=metrics.precision_score(y_test, y_pred)\n",
    "    recall=metrics.recall_score(y_test, y_pred)\n",
    "    return {'model':model, 'accuracy':round(accuracy, 4), \n",
    "            'precision':round(precision, 4), 'recall':round(recall,4)}"
   ]
  },
  {
   "cell_type": "code",
   "execution_count": 3,
   "id": "570b8de5",
   "metadata": {},
   "outputs": [],
   "source": [
    "def roc_auc_plot(model_name, y_probs, y_pred):\n",
    "    fpr, tpr, threshold=metrics.roc_curve(y_probs, y_pred)\n",
    "    roc_auc=metrics.auc(fpr, tpr)\n",
    "\n",
    "    plt.figure()\n",
    "    plt.plot(fpr, tpr)\n",
    "    plt.plot([0,1], [0,1], 'r--')\n",
    "    plt.xlim([0.0, 1.0])\n",
    "    plt.ylim([0.0, 1.05])\n",
    "    plt.xlabel(['False Positive Rate'])\n",
    "    plt.ylabel(['True Positive Rate'])\n",
    "    plt.title('%s ROC (AUC=%0.4f))'% (model_name, roc_auc))"
   ]
  },
  {
   "cell_type": "code",
   "execution_count": null,
   "id": "ce7df939",
   "metadata": {},
   "outputs": [],
   "source": []
  }
 ],
 "metadata": {
  "kernelspec": {
   "display_name": "Python 3",
   "language": "python",
   "name": "python3"
  },
  "language_info": {
   "codemirror_mode": {
    "name": "ipython",
    "version": 3
   },
   "file_extension": ".py",
   "mimetype": "text/x-python",
   "name": "python",
   "nbconvert_exporter": "python",
   "pygments_lexer": "ipython3",
   "version": "3.8.2"
  }
 },
 "nbformat": 4,
 "nbformat_minor": 5
}
