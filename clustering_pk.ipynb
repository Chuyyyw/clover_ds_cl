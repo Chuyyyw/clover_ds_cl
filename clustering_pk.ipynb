{
 "cells": [
  {
   "cell_type": "code",
   "execution_count": 1,
   "id": "6fd717b7",
   "metadata": {},
   "outputs": [],
   "source": [
    "import pandas as pd\n",
    "import numpy as np\n",
    "import matplotlib.pyplot as plt\n",
    "import seaborn as sns\n",
    "from sklearn.cluster import KMeans"
   ]
  },
  {
   "cell_type": "code",
   "execution_count": 2,
   "id": "e0ce94e7",
   "metadata": {},
   "outputs": [],
   "source": [
    "def cluster_params_sse(df, feature, max_clusters):\n",
    "    sse={}\n",
    "    var=df[[feature]]\n",
    "    for k in range(1, max_clusters):\n",
    "        kmeans=KMeans(n_clusters=k, max_iter=1000).fit(var)\n",
    "        sse[k]=kmeans.inertia_\n",
    "    return sse"
   ]
  },
  {
   "cell_type": "code",
   "execution_count": 3,
   "id": "61d55b71",
   "metadata": {},
   "outputs": [],
   "source": [
    "def plot_nclusters_sse(sse, feature):\n",
    "    plt.figure()\n",
    "    plt.plot(list(sse.keys()), list(sse.values()))\n",
    "    plt.xlabel('Number of clusters')\n",
    "    plt.title('Clustering for '+ feature.upper())"
   ]
  },
  {
   "cell_type": "code",
   "execution_count": 4,
   "id": "24d8746b",
   "metadata": {},
   "outputs": [],
   "source": [
    "def create_cluster_label(df, feature, clusters, ascending):\n",
    "    kmeans=KMeans(n_clusters=clusters)\n",
    "    kmeans.fit(df[[feature]])\n",
    "    cluster_name=feature+'_cluster'\n",
    "    df[cluster_name]=kmeans.predict((df[[feature]]))\n",
    "    \n",
    "    df_new = df.groupby(cluster_name)[feature].mean().reset_index()\n",
    "    df_new = df_new.sort_values(by=feature, ascending = ascending).reset_index(drop=True)\n",
    "    df_new['index']=df_new.index\n",
    "    \n",
    "    df_final=pd.merge(df, df_new[[cluster_name, 'index']], on=cluster_name)\n",
    "    df_final=df_final.drop([cluster_name], axis=1)\n",
    "    df_final=df_final.rename(columns={'index':cluster_name})\n",
    "    \n",
    "    return df_final"
   ]
  },
  {
   "cell_type": "code",
   "execution_count": null,
   "id": "af928b13",
   "metadata": {},
   "outputs": [],
   "source": []
  }
 ],
 "metadata": {
  "kernelspec": {
   "display_name": "Python 3",
   "language": "python",
   "name": "python3"
  },
  "language_info": {
   "codemirror_mode": {
    "name": "ipython",
    "version": 3
   },
   "file_extension": ".py",
   "mimetype": "text/x-python",
   "name": "python",
   "nbconvert_exporter": "python",
   "pygments_lexer": "ipython3",
   "version": "3.8.2"
  }
 },
 "nbformat": 4,
 "nbformat_minor": 5
}
